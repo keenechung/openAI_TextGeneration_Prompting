{
 "cells": [
  {
   "cell_type": "markdown",
   "id": "ca0cca5c",
   "metadata": {},
   "source": [
    "## NOTE\n",
    "\n",
    "* Create .env file and define OPENAI_API_KEY with your API Key"
   ]
  },
  {
   "cell_type": "code",
   "execution_count": 4,
   "id": "e4dd67fd",
   "metadata": {},
   "outputs": [
    {
     "data": {
      "text/plain": [
       "'\\n! export OPENAI_API_KEY=\"your_openai_api_key\"\\n'"
      ]
     },
     "execution_count": 4,
     "metadata": {},
     "output_type": "execute_result"
    }
   ],
   "source": [
    "# Option 2: Define OPENAI_API_KEY in terminal by running:\n",
    "\n",
    "\"\"\"\n",
    "! export OPENAI_API_KEY=\"your_openai_api_key\"\n",
    "\"\"\""
   ]
  },
  {
   "cell_type": "code",
   "execution_count": 5,
   "id": "bb73aa27",
   "metadata": {},
   "outputs": [
    {
     "data": {
      "text/plain": [
       "'\\nfrom dotenv import load_dotenv\\nimport os\\nload_dotenv()\\nopenai_api_key = os.getenv(\"OPENAI_API_KEY\")\\n'"
      ]
     },
     "execution_count": 5,
     "metadata": {},
     "output_type": "execute_result"
    }
   ],
   "source": [
    "# if OpenAI() does not recognize the OPENAI_API_KEY in .env file, run this script:\n",
    "\n",
    "\"\"\"\n",
    "from dotenv import load_dotenv\n",
    "import os\n",
    "load_dotenv()\n",
    "openai_api_key = os.getenv(\"OPENAI_API_KEY\")\n",
    "\"\"\""
   ]
  },
  {
   "cell_type": "code",
   "execution_count": 6,
   "id": "23d4f3c2",
   "metadata": {},
   "outputs": [
    {
     "name": "stdout",
     "output_type": "stream",
     "text": [
      "Under the shimmering glow of a full moon, Luna the unicorn danced gracefully through the stardust-filled meadow, leaving trails of sparkling dreams for all the sleepy critters tucked in their cozy burrows.\n"
     ]
    }
   ],
   "source": [
    "from openai import OpenAI\n",
    "client = OpenAI()  # api_key=openai_api_key\n",
    "\n",
    "completion = client.chat.completions.create(\n",
    "    model=\"gpt-4o\",\n",
    "    messages=[\n",
    "        {\n",
    "            \"role\": \"user\",\n",
    "            \"content\": \"Write a one-sentence bedtime story about a unicorn.\"\n",
    "        }\n",
    "    ]\n",
    ")\n",
    "\n",
    "print(completion.choices[0].message.content)"
   ]
  },
  {
   "cell_type": "code",
   "execution_count": null,
   "id": "495df93b",
   "metadata": {},
   "outputs": [],
   "source": []
  }
 ],
 "metadata": {
  "kernelspec": {
   "display_name": "myenv",
   "language": "python",
   "name": "python3"
  },
  "language_info": {
   "codemirror_mode": {
    "name": "ipython",
    "version": 3
   },
   "file_extension": ".py",
   "mimetype": "text/x-python",
   "name": "python",
   "nbconvert_exporter": "python",
   "pygments_lexer": "ipython3",
   "version": "3.9.6"
  }
 },
 "nbformat": 4,
 "nbformat_minor": 5
}
