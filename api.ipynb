{
 "cells": [
  {
   "cell_type": "markdown",
   "id": "ca0cca5c",
   "metadata": {},
   "source": [
    "## API KEY\n",
    "\n",
    "* Create .env file and define OPENAI_API_KEY with your API Key"
   ]
  },
  {
   "cell_type": "code",
   "execution_count": 5,
   "id": "bb73aa27",
   "metadata": {},
   "outputs": [
    {
     "data": {
      "text/plain": [
       "'\\nfrom dotenv import load_dotenv\\nimport os\\nload_dotenv()\\nopenai_api_key = os.getenv(\"OPENAI_API_KEY\")\\n'"
      ]
     },
     "execution_count": 5,
     "metadata": {},
     "output_type": "execute_result"
    }
   ],
   "source": [
    "# if OpenAI() does not recognize the OPENAI_API_KEY in .env file, run this script:\n",
    "\n",
    "\"\"\"\n",
    "from dotenv import load_dotenv\n",
    "import os\n",
    "load_dotenv()\n",
    "openai_api_key = os.getenv(\"OPENAI_API_KEY\")\n",
    "\"\"\""
   ]
  },
  {
   "cell_type": "code",
   "execution_count": 4,
   "id": "e4dd67fd",
   "metadata": {},
   "outputs": [
    {
     "data": {
      "text/plain": [
       "'\\n! export OPENAI_API_KEY=\"your_openai_api_key\"\\n'"
      ]
     },
     "execution_count": 4,
     "metadata": {},
     "output_type": "execute_result"
    }
   ],
   "source": [
    "# Option 2: Define OPENAI_API_KEY in terminal by running:\n",
    "\n",
    "\"\"\"\n",
    "! export OPENAI_API_KEY=\"your_openai_api_key\"\n",
    "\"\"\""
   ]
  },
  {
   "cell_type": "markdown",
   "id": "9548fbdd",
   "metadata": {},
   "source": [
    "<hr>\n",
    "<hr>\n",
    "\n",
    "## Import openAI"
   ]
  },
  {
   "cell_type": "code",
   "execution_count": null,
   "id": "d34b312d",
   "metadata": {},
   "outputs": [],
   "source": [
    "from openai import OpenAI\n",
    "client = OpenAI()  # api_key=openai_api_key"
   ]
  },
  {
   "cell_type": "markdown",
   "id": "161d162c",
   "metadata": {},
   "source": [
    "<hr>\n",
    "<hr>\n",
    "\n",
    "## Text and Prompting"
   ]
  },
  {
   "cell_type": "code",
   "execution_count": 20,
   "id": "f08fe43e",
   "metadata": {},
   "outputs": [],
   "source": [
    "prompt = \"Write a one-sentence bedtime story about a unicorn.\""
   ]
  },
  {
   "cell_type": "code",
   "execution_count": 21,
   "id": "23d4f3c2",
   "metadata": {},
   "outputs": [
    {
     "name": "stdout",
     "output_type": "stream",
     "text": [
      "In a land where dreams and reality danced together, a gentle unicorn named Lira shimmered under the moonlight, spreading stardust with every graceful step she took, ensuring the world drifted into peaceful slumber.\n"
     ]
    }
   ],
   "source": [
    "completion = client.chat.completions.create(\n",
    "    model=\"gpt-4o\",\n",
    "    messages=[\n",
    "        {\n",
    "            \"role\": \"user\",\n",
    "            \"content\": prompt\n",
    "        }\n",
    "    ]\n",
    ")\n",
    "\n",
    "print(completion.choices[0].message.content)"
   ]
  },
  {
   "cell_type": "code",
   "execution_count": 22,
   "id": "495df93b",
   "metadata": {},
   "outputs": [
    {
     "data": {
      "text/plain": [
       "'chatcmpl-BKIq80uz4LEkRUbEdidkUoabtmzjD'"
      ]
     },
     "execution_count": 22,
     "metadata": {},
     "output_type": "execute_result"
    }
   ],
   "source": [
    "completion.id"
   ]
  },
  {
   "cell_type": "code",
   "execution_count": 23,
   "id": "8414ff38",
   "metadata": {},
   "outputs": [
    {
     "data": {
      "text/plain": [
       "[Choice(finish_reason='stop', index=0, logprobs=None, message=ChatCompletionMessage(content='In a land where dreams and reality danced together, a gentle unicorn named Lira shimmered under the moonlight, spreading stardust with every graceful step she took, ensuring the world drifted into peaceful slumber.', refusal=None, role='assistant', annotations=[], audio=None, function_call=None, tool_calls=None))]"
      ]
     },
     "execution_count": 23,
     "metadata": {},
     "output_type": "execute_result"
    }
   ],
   "source": [
    "completion.choices"
   ]
  },
  {
   "cell_type": "code",
   "execution_count": 24,
   "id": "186ee204",
   "metadata": {},
   "outputs": [
    {
     "data": {
      "text/plain": [
       "1"
      ]
     },
     "execution_count": 24,
     "metadata": {},
     "output_type": "execute_result"
    }
   ],
   "source": [
    "len(completion.choices)"
   ]
  },
  {
   "cell_type": "code",
   "execution_count": 25,
   "id": "78a5121e",
   "metadata": {},
   "outputs": [
    {
     "data": {
      "text/plain": [
       "list"
      ]
     },
     "execution_count": 25,
     "metadata": {},
     "output_type": "execute_result"
    }
   ],
   "source": [
    "type(completion.choices)"
   ]
  },
  {
   "cell_type": "code",
   "execution_count": 26,
   "id": "16941f86",
   "metadata": {},
   "outputs": [
    {
     "data": {
      "text/plain": [
       "openai.types.chat.chat_completion.Choice"
      ]
     },
     "execution_count": 26,
     "metadata": {},
     "output_type": "execute_result"
    }
   ],
   "source": [
    "type(completion.choices[0])"
   ]
  },
  {
   "cell_type": "code",
   "execution_count": 27,
   "id": "287000d7",
   "metadata": {},
   "outputs": [
    {
     "data": {
      "text/plain": [
       "ChatCompletionMessage(content='In a land where dreams and reality danced together, a gentle unicorn named Lira shimmered under the moonlight, spreading stardust with every graceful step she took, ensuring the world drifted into peaceful slumber.', refusal=None, role='assistant', annotations=[], audio=None, function_call=None, tool_calls=None)"
      ]
     },
     "execution_count": 27,
     "metadata": {},
     "output_type": "execute_result"
    }
   ],
   "source": [
    "completion.choices[0].message"
   ]
  },
  {
   "cell_type": "code",
   "execution_count": 28,
   "id": "6474e335",
   "metadata": {},
   "outputs": [
    {
     "data": {
      "text/plain": [
       "'In a land where dreams and reality danced together, a gentle unicorn named Lira shimmered under the moonlight, spreading stardust with every graceful step she took, ensuring the world drifted into peaceful slumber.'"
      ]
     },
     "execution_count": 28,
     "metadata": {},
     "output_type": "execute_result"
    }
   ],
   "source": [
    "completion.choices[0].message.content"
   ]
  },
  {
   "cell_type": "code",
   "execution_count": 29,
   "id": "bec287df",
   "metadata": {},
   "outputs": [
    {
     "name": "stdout",
     "output_type": "stream",
     "text": [
      "In a land where dreams and reality danced together, a gentle unicorn named Lira shimmered under the moonlight, spreading stardust with every graceful step she took, ensuring the world drifted into peaceful slumber.\n"
     ]
    }
   ],
   "source": [
    "print(completion.choices[0].message.content)"
   ]
  },
  {
   "cell_type": "markdown",
   "id": "fbbc2020",
   "metadata": {},
   "source": [
    "<hr>\n",
    "\n",
    "### Message roles and instruction following"
   ]
  },
  {
   "cell_type": "code",
   "execution_count": 38,
   "id": "b85b4119",
   "metadata": {},
   "outputs": [
    {
     "name": "stdout",
     "output_type": "stream",
     "text": [
      "Arrr, ye be asking about JavaScript, eh? Aye, in JavaScript, semicolons be mostly optional because of a thing called Automatic Semicolon Insertion, or ASI fer short. The language be takin' care of addin' semicolons fer ye in many cases, so it often be seemin' like ye don't need 'em. \n",
      "\n",
      "But beware, matey! The seas of code can be treacherous without 'em. There be certain situations where omittin' semicolons can lead to unexpected behavior. So while ye can often get away with skippin' 'em, many a wise pirate prefers to place them intentionally to avoid any mutiny from the JavaScript engine. Always best to keep a weather eye on yer syntax, savvy?\n"
     ]
    }
   ],
   "source": [
    "completion = client.chat.completions.create(\n",
    "    model=\"gpt-4o\",\n",
    "    messages=[\n",
    "        {\n",
    "            \"role\": \"developer\",\n",
    "            \"content\": \"Talk like a pirate.\"\n",
    "        },\n",
    "        {\n",
    "            \"role\": \"user\",\n",
    "            \"content\": \"Are semicolons optional in JavaScript?\"\n",
    "        }\n",
    "    ]\n",
    ")\n",
    "\n",
    "print(completion.choices[0].message.content)"
   ]
  },
  {
   "cell_type": "markdown",
   "id": "055158c5",
   "metadata": {},
   "source": [
    "<hr>\n",
    "<hr>\n",
    "\n",
    "## Image and Vision"
   ]
  },
  {
   "cell_type": "markdown",
   "id": "c7758681",
   "metadata": {},
   "source": [
    "<hr>\n",
    "\n",
    "### Passing URL"
   ]
  },
  {
   "cell_type": "code",
   "execution_count": 32,
   "id": "9cee4751",
   "metadata": {},
   "outputs": [],
   "source": [
    "prompt_text = \"What's in this image?\"\n",
    "\n",
    "public_url = \"https://upload.wikimedia.org/wikipedia/commons/thumb/d/dd/Gfp-wisconsin-madison-the-nature-boardwalk.jpg/2560px-Gfp-wisconsin-madison-the-nature-boardwalk.jpg\""
   ]
  },
  {
   "cell_type": "code",
   "execution_count": 33,
   "id": "a9c06688",
   "metadata": {},
   "outputs": [
    {
     "name": "stdout",
     "output_type": "stream",
     "text": [
      "The image shows a scenic landscape featuring a wooden walkway or boardwalk that stretches through a lush green meadow. The meadow is filled with tall grass, and there are patches of bushes and trees on either side. The sky is bright with some clouds, indicating a clear and pleasant day. This setting appears to be a tranquil natural environment, possibly a wetlands or marsh area.\n"
     ]
    }
   ],
   "source": [
    "response = client.chat.completions.create(\n",
    "    model=\"gpt-4o-mini\", \n",
    "    messages=[{\n",
    "        \"role\": \"user\",\n",
    "        \"content\": [\n",
    "            {\n",
    "                \"type\": \"text\", \n",
    "                \"text\": prompt_text\n",
    "            },\n",
    "            {\n",
    "                \"type\": \"image_url\",\n",
    "                \"image_url\": {\"url\": public_url,},\n",
    "            },\n",
    "        ],\n",
    "    }],\n",
    ")\n",
    "\n",
    "print(response.choices[0].message.content)"
   ]
  },
  {
   "cell_type": "markdown",
   "id": "46fb6638",
   "metadata": {},
   "source": [
    "<hr>\n",
    "\n",
    "### Passing a Base64 encoded image"
   ]
  },
  {
   "cell_type": "code",
   "execution_count": 34,
   "id": "9cd12a1c",
   "metadata": {},
   "outputs": [],
   "source": [
    "import base64"
   ]
  },
  {
   "cell_type": "code",
   "execution_count": 35,
   "id": "3823a28d",
   "metadata": {},
   "outputs": [],
   "source": [
    "# Path to your image\n",
    "image_path = \"image.jpeg\""
   ]
  },
  {
   "cell_type": "code",
   "execution_count": 36,
   "id": "304757ec",
   "metadata": {},
   "outputs": [],
   "source": [
    "user_prompt = \"What is in this image?\""
   ]
  },
  {
   "cell_type": "code",
   "execution_count": 37,
   "id": "0025c51d",
   "metadata": {},
   "outputs": [
    {
     "name": "stdout",
     "output_type": "stream",
     "text": [
      "The image shows a fluffy white dog, likely a Samoyed, with a light blue background. The dog is facing the camera and appears to be smiling.\n"
     ]
    }
   ],
   "source": [
    "# Function to encode the image\n",
    "def encode_image(image_path):\n",
    "    with open(image_path, \"rb\") as image_file:\n",
    "        return base64.b64encode(image_file.read()).decode(\"utf-8\")\n",
    "\n",
    "# Getting the Base64 string\n",
    "base64_image = encode_image(image_path)\n",
    "\n",
    "completion = client.chat.completions.create(\n",
    "    model=\"gpt-4o\",\n",
    "    messages=[\n",
    "        {\n",
    "            \"role\": \"user\",\n",
    "            \"content\": [\n",
    "                { \"type\": \"text\", \"text\": user_prompt },\n",
    "                {\n",
    "                    \"type\": \"image_url\",\n",
    "                    \"image_url\": {\n",
    "                        \"url\": f\"data:image/jpeg;base64,{base64_image}\",\n",
    "                    },\n",
    "                },\n",
    "            ],\n",
    "        }\n",
    "    ],\n",
    ")\n",
    "\n",
    "print(completion.choices[0].message.content)"
   ]
  },
  {
   "cell_type": "code",
   "execution_count": null,
   "id": "bcdaecf7",
   "metadata": {},
   "outputs": [],
   "source": []
  }
 ],
 "metadata": {
  "kernelspec": {
   "display_name": "myenv",
   "language": "python",
   "name": "python3"
  },
  "language_info": {
   "codemirror_mode": {
    "name": "ipython",
    "version": 3
   },
   "file_extension": ".py",
   "mimetype": "text/x-python",
   "name": "python",
   "nbconvert_exporter": "python",
   "pygments_lexer": "ipython3",
   "version": "3.9.6"
  }
 },
 "nbformat": 4,
 "nbformat_minor": 5
}
